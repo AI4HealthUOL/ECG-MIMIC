{
 "cells": [
  {
   "cell_type": "code",
   "execution_count": 1,
   "id": "06d5f273",
   "metadata": {},
   "outputs": [],
   "source": [
    "import numpy as np\n",
    "import pandas as pd\n",
    "import os\n",
    "import subprocess\n",
    "from pathlib import Path\n",
    "\n",
    "from mimic_ecg_preprocessing import prepare_mimic_ecg\n",
    "\n",
    "from utils.stratify import *"
   ]
  },
  {
   "cell_type": "code",
   "execution_count": 2,
   "id": "c09e168e",
   "metadata": {},
   "outputs": [],
   "source": [
    "# finetune_dataset e.g. mimic_all_all_all_all_2000_5A \n",
    "\n",
    "# mimic_{subsettrain}_{labelsettrain}_{subsettest}_{labelsettest}_{mincnt}_{digits} where _{digits} is optional\n",
    "\n",
    "# subsettrain: all/ed/hosp/allnonzero/ednonzero/hospnonzero/allnonzerofirst/ednonzerofirst/hospnonzerofirst/allfirst/edfirst/hospfirst default: allnonzero\n",
    "# labelsettrain: {all/hosp/ed}{/af/I} first part selects the label set all: both ed diagnosis and hosp diagnosis hosp: just hosp diagnosis ed: just ed diagnosis; second part: can be omitted or af for af labels or collection of uppercase letters such as I to select specific label sets\n",
    "# similar for subsettest/labelsettest but labelsettest can only be {all/hosp/ed}\n",
    "# digits: 3/4/5/3A/4A/5A or just empty corresponding to I48, I48.1 or I48.19; append an A to include all ancestors"
   ]
  },
  {
   "cell_type": "code",
   "execution_count": 10,
   "id": "8fd98def",
   "metadata": {},
   "outputs": [],
   "source": [
    "target_folder = Path() # insert your data path"
   ]
  },
  {
   "cell_type": "code",
   "execution_count": null,
   "id": "4c83b63c",
   "metadata": {},
   "outputs": [],
   "source": [
    "df = pd.read_csv() # load the provided csv file"
   ]
  },
  {
   "cell_type": "code",
   "execution_count": null,
   "id": "f668cab9",
   "metadata": {},
   "outputs": [],
   "source": [
    "for c in [\"hosp_diag_hosp\" ,\"ed_diag_ed\", \"ed_diag_hosp\", \"all_diag_hosp\", \"all_diag_all\"]:\n",
    "    df[c]=df[c].apply(lambda x:eval(x))"
   ]
  },
  {
   "cell_type": "code",
   "execution_count": 11,
   "id": "21266638",
   "metadata": {},
   "outputs": [],
   "source": [
    "# Benchmark settings\n",
    "\n",
    "Tall2all_Eall2all = 'mimic_all_all_allfirst_all_2000_5A'\n",
    "Ted2all_Eall2all = 'mimic_ed_all_allfirst_all_2000_5A'\n",
    "Ted2ed_Eall2all = 'mimic_ed_ed_allfirst_all_2000_5A'\n",
    "Tall2all_Eed2all = 'mimic_all_all_edfirst_all_2000_5A'\n",
    "Ted2all_Eed2all = 'mimic_ed_all_edfirst_all_2000_5A'\n",
    "Tall2all_Eall2hosp = 'mimic_all_all_allfirst_hosp_2000_5A'\n",
    "Tall2all_Eed2hosp = 'mimic_all_all_edfirst_hosp_2000_5A'\n",
    "Tall2all_Eed2ed = 'mimic_all_all_edfirst_ed_2000_5A'\n",
    "\n",
    "\n",
    "finetune_dataset = Ted2all_Eed2all"
   ]
  },
  {
   "cell_type": "code",
   "execution_count": 14,
   "id": "1b0789b2",
   "metadata": {},
   "outputs": [
    {
     "name": "stdout",
     "output_type": "stream",
     "text": [
      "Label set: 1076 labels.\n"
     ]
    }
   ],
   "source": [
    "df_scenario, lbl_itos = prepare_mimic_ecg(finetune_dataset, target_folder, df_mapped=df)"
   ]
  },
  {
   "cell_type": "code",
   "execution_count": 17,
   "id": "e86f8304",
   "metadata": {},
   "outputs": [],
   "source": [
    "max_fold_id = df_scenario.fold.max()\n",
    "df_train = df_scenario[df_scenario.fold<max_fold_id-1]\n",
    "df_val = df_scenario[df_scenario.fold==max_fold_id-1]\n",
    "df_test = df_scenario[df_scenario.fold==max_fold_id]"
   ]
  },
  {
   "cell_type": "code",
   "execution_count": 34,
   "id": "1587cd21",
   "metadata": {},
   "outputs": [
    {
     "data": {
      "text/plain": [
       "0              0\n",
       "1              1\n",
       "5              5\n",
       "11            11\n",
       "18            18\n",
       "           ...  \n",
       "800001    800001\n",
       "800012    800012\n",
       "800023    800023\n",
       "800024    800024\n",
       "800032    800032\n",
       "Name: data, Length: 166408, dtype: int64"
      ]
     },
     "execution_count": 34,
     "metadata": {},
     "output_type": "execute_result"
    }
   ],
   "source": [
    "df_train['data'] # ecg index from mimic-iv-ecg"
   ]
  },
  {
   "cell_type": "code",
   "execution_count": 39,
   "id": "bf3250c5",
   "metadata": {},
   "outputs": [
    {
     "data": {
      "text/plain": [
       "0         mimic-iv-ecg-diagnostic-electrocardiogram-matc...\n",
       "1         mimic-iv-ecg-diagnostic-electrocardiogram-matc...\n",
       "5         mimic-iv-ecg-diagnostic-electrocardiogram-matc...\n",
       "11        mimic-iv-ecg-diagnostic-electrocardiogram-matc...\n",
       "18        mimic-iv-ecg-diagnostic-electrocardiogram-matc...\n",
       "                                ...                        \n",
       "800001    mimic-iv-ecg-diagnostic-electrocardiogram-matc...\n",
       "800012    mimic-iv-ecg-diagnostic-electrocardiogram-matc...\n",
       "800023    mimic-iv-ecg-diagnostic-electrocardiogram-matc...\n",
       "800024    mimic-iv-ecg-diagnostic-electrocardiogram-matc...\n",
       "800032    mimic-iv-ecg-diagnostic-electrocardiogram-matc...\n",
       "Name: filename, Length: 166408, dtype: object"
      ]
     },
     "execution_count": 39,
     "metadata": {},
     "output_type": "execute_result"
    }
   ],
   "source": [
    "df_train['filename'] # ecg path from mimic-iv-ecg"
   ]
  },
  {
   "cell_type": "code",
   "execution_count": 40,
   "id": "44854406",
   "metadata": {},
   "outputs": [
    {
     "data": {
      "text/plain": [
       "0         [0.0, 0.0, 0.0, 0.0, 0.0, 0.0, 0.0, 0.0, 0.0, ...\n",
       "1         [0.0, 0.0, 0.0, 0.0, 0.0, 0.0, 0.0, 0.0, 0.0, ...\n",
       "5         [0.0, 0.0, 0.0, 0.0, 0.0, 0.0, 0.0, 0.0, 0.0, ...\n",
       "11        [1.0, 1.0, 0.0, 0.0, 0.0, 0.0, 1.0, 0.0, 0.0, ...\n",
       "18        [1.0, 1.0, 1.0, 1.0, 1.0, 1.0, 0.0, 1.0, 0.0, ...\n",
       "                                ...                        \n",
       "800001    [1.0, 1.0, 1.0, 0.0, 1.0, 0.0, 1.0, 0.0, 0.0, ...\n",
       "800012    [0.0, 0.0, 0.0, 0.0, 0.0, 0.0, 0.0, 0.0, 0.0, ...\n",
       "800023    [0.0, 0.0, 0.0, 0.0, 0.0, 0.0, 0.0, 0.0, 0.0, ...\n",
       "800024    [0.0, 0.0, 0.0, 0.0, 0.0, 0.0, 0.0, 0.0, 0.0, ...\n",
       "800032    [0.0, 0.0, 0.0, 1.0, 0.0, 1.0, 0.0, 1.0, 0.0, ...\n",
       "Name: label, Length: 166408, dtype: object"
      ]
     },
     "execution_count": 40,
     "metadata": {},
     "output_type": "execute_result"
    }
   ],
   "source": [
    "df_train['label']  # multilabel target"
   ]
  },
  {
   "cell_type": "code",
   "execution_count": null,
   "id": "21b2c75f",
   "metadata": {},
   "outputs": [],
   "source": []
  },
  {
   "cell_type": "code",
   "execution_count": null,
   "id": "af3cdf26",
   "metadata": {},
   "outputs": [],
   "source": []
  }
 ],
 "metadata": {
  "kernelspec": {
   "display_name": "Python 3 (ipykernel)",
   "language": "python",
   "name": "python3"
  },
  "language_info": {
   "codemirror_mode": {
    "name": "ipython",
    "version": 3
   },
   "file_extension": ".py",
   "mimetype": "text/x-python",
   "name": "python",
   "nbconvert_exporter": "python",
   "pygments_lexer": "ipython3",
   "version": "3.10.8"
  }
 },
 "nbformat": 4,
 "nbformat_minor": 5
}
